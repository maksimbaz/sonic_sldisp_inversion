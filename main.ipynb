{
 "cells": [
  {
   "cell_type": "code",
   "execution_count": 10,
   "id": "cc4231a5",
   "metadata": {},
   "outputs": [
    {
     "name": "stdout",
     "output_type": "stream",
     "text": [
      "GPU USE: 3\n"
     ]
    }
   ],
   "source": [
    "import os\n",
    "os.environ['TF_CPP_MIN_LOG_LEVEL'] = '1'\n",
    "gpu_num = 3\n",
    "print('GPU USE:', gpu_num)\n",
    "os.environ[\"CUDA_VISIBLE_DEVICES\"]=str(gpu_num) # specify gpu number"
   ]
  },
  {
   "cell_type": "code",
   "execution_count": null,
   "id": "10178f80",
   "metadata": {},
   "outputs": [],
   "source": [
    "from tensorflow.keras.models import Sequential, load_model, Model\n",
    "from tensorflow.keras.layers import Input, Dense, Activation, Dropout, Flatten, Conv2D, MaxPooling2D, concatenate\n",
    "# from tensorflow.keras.layers.normalization import BatchNormalization\n",
    "from tensorflow.keras.utils import plot_model\n",
    "from tensorflow.keras import regularizers, optimizers"
   ]
  },
  {
   "cell_type": "code",
   "execution_count": 1,
   "id": "6bd19c36",
   "metadata": {},
   "outputs": [],
   "source": [
    "import numpy as np\n",
    "import pickle, json\n",
    "from matplotlib import pyplot as plt\n",
    "from IPython import display"
   ]
  },
  {
   "cell_type": "code",
   "execution_count": 11,
   "id": "515cb9ec",
   "metadata": {},
   "outputs": [],
   "source": [
    "from sklearn.model_selection import train_test_split"
   ]
  },
  {
   "cell_type": "code",
   "execution_count": 2,
   "id": "cc80897a",
   "metadata": {},
   "outputs": [],
   "source": [
    "dataset_path = './dataset/perturbations/datasets/2/'"
   ]
  },
  {
   "cell_type": "markdown",
   "id": "b60ee986",
   "metadata": {},
   "source": [
    "load data"
   ]
  },
  {
   "cell_type": "code",
   "execution_count": 3,
   "id": "ec56dd69",
   "metadata": {},
   "outputs": [
    {
     "name": "stdout",
     "output_type": "stream",
     "text": [
      "(2000, 45)\n",
      "(2000, 8)\n",
      "(2000, 8)\n"
     ]
    }
   ],
   "source": [
    "dispersion_data_mat = np.loadtxt(dataset_path + 'dispersion_data_mat.txt', delimiter=',')\n",
    "dlf = np.loadtxt(dataset_path + 'dlf.txt', delimiter=',')\n",
    "sensitity_data = np.loadtxt(dataset_path + 'sensitity_data.txt', delimiter=',')\n",
    "print(dispersion_data_mat.shape)\n",
    "print(dlf.shape)\n",
    "print(sensitity_data.shape)"
   ]
  },
  {
   "cell_type": "code",
   "execution_count": 4,
   "id": "3c6eae66",
   "metadata": {},
   "outputs": [
    {
     "name": "stdout",
     "output_type": "stream",
     "text": [
      "dataset_size: 2000\n"
     ]
    }
   ],
   "source": [
    "assert dispersion_data_mat.shape[0] == dlf.shape[0]\n",
    "assert dlf.shape[0] == sensitity_data.shape[0]\n",
    "dataset_size = dispersion_data_mat.shape[0]\n",
    "print('dataset_size:', dataset_size)"
   ]
  },
  {
   "cell_type": "markdown",
   "id": "b7e1b2ce",
   "metadata": {},
   "source": [
    "norilize data X"
   ]
  },
  {
   "cell_type": "code",
   "execution_count": 5,
   "id": "d408943b",
   "metadata": {},
   "outputs": [],
   "source": [
    "# calc mu\n",
    "mu_curve = np.zeros([dispersion_data_mat.shape[1]])\n",
    "for i in range(dataset_size):\n",
    "    mu_curve[:] += dispersion_data_mat[i, :]\n",
    "mu_curve /= dataset_size\n",
    "# calc std\n",
    "std_curve = np.zeros([dispersion_data_mat.shape[1]])\n",
    "for i in range(dataset_size):\n",
    "    std_curve += (dispersion_data_mat[i, :] - mu_curve)**2/dataset_size\n",
    "std_curve = np.sqrt(std_curve)\n",
    "std_curve[np.where(std_curve == 0)] = 1"
   ]
  },
  {
   "cell_type": "code",
   "execution_count": 6,
   "id": "f679fad4",
   "metadata": {},
   "outputs": [],
   "source": [
    "# Standardization\n",
    "data_x = np.copy(dispersion_data_mat)\n",
    "for i in range(dataset_size):\n",
    "    data_x[i, :] -= mu_curve\n",
    "    data_x[i, :] /= std_curve"
   ]
  },
  {
   "cell_type": "markdown",
   "id": "4993e81b",
   "metadata": {},
   "source": [
    "norilize data Y"
   ]
  },
  {
   "cell_type": "code",
   "execution_count": 7,
   "id": "5fd663bc",
   "metadata": {},
   "outputs": [],
   "source": [
    "data_y = np.copy(dlf)\n",
    "max_param_value = []\n",
    "mean_param_value = []\n",
    "for i in range(data_y.shape[1]):\n",
    "    # get max\n",
    "    max_param_value.append(np.max(data_y[:,i]))\n",
    "    # get mean\n",
    "    mean_param_value.append(np.mean(data_y[:,i]))\n",
    "for i in range(data_y.shape[1]): \n",
    "    # normalize mean\n",
    "    data_y[:,i] -= mean_param_value[i]\n",
    "    # normalize max\n",
    "    data_y[:,i] /= max_param_value[i]"
   ]
  },
  {
   "cell_type": "markdown",
   "id": "6f65797d",
   "metadata": {},
   "source": [
    "train test split"
   ]
  },
  {
   "cell_type": "code",
   "execution_count": 12,
   "id": "fd1657ad",
   "metadata": {},
   "outputs": [],
   "source": [
    "x_train, x_val, y_train, y_val = train_test_split(data_x, data_y, train_size=0.9)"
   ]
  },
  {
   "cell_type": "markdown",
   "id": "e8c57f3c",
   "metadata": {},
   "source": [
    "NN construction"
   ]
  },
  {
   "cell_type": "code",
   "execution_count": null,
   "id": "1e0f5549",
   "metadata": {},
   "outputs": [],
   "source": [
    "main_input = Input(shape=(x_train.shape[1],), name = 'disp_curve_flat_stf0f1')\n",
    "x = Dense(500, activation='relu')(main_input)\n",
    "x = Dense(500, activation='relu')(x)\n",
    "x = Dense(500, activation='relu')(x)\n",
    "x = Dense(500, activation='relu')(x)\n",
    "x = Dense(500, activation='relu')(x)\n",
    "x = Dense(500, activation='relu')(x)\n",
    "x = Dense(500, activation='relu')(x)\n",
    "x = Dense(500, activation='relu')(x)\n",
    "x = Dense(500, activation='relu')(x)\n",
    "main_output = Dense(y_train.shape[1], activation='linear')(x)\n",
    "model = Model(inputs = main_input, outputs = main_output)\n",
    "print('model initialized')\n",
    "with open(train_output_folder + 'model_summary.txt', 'w') as file_write_sum:\n",
    "    with redirect_stdout(file_write_sum):\n",
    "        model.summary()\n",
    "plot_model(model, to_file=train_output_folder + 'model.png')"
   ]
  },
  {
   "cell_type": "markdown",
   "id": "775bcf4a",
   "metadata": {},
   "source": [
    "Forward solution analysis"
   ]
  },
  {
   "cell_type": "code",
   "execution_count": null,
   "id": "6d7e314d",
   "metadata": {},
   "outputs": [],
   "source": [
    "train_output_folder = './train_output_forward/'"
   ]
  },
  {
   "cell_type": "code",
   "execution_count": null,
   "id": "14071fca",
   "metadata": {},
   "outputs": [],
   "source": [
    "with open('./dataset/clust_poly3_cut_20160.pkl', 'rb') as fp:\n",
    "    clust_poly3_cut_20160 = pickle.load(fp)"
   ]
  },
  {
   "cell_type": "code",
   "execution_count": null,
   "id": "a0c57026",
   "metadata": {},
   "outputs": [],
   "source": [
    "dataset_size = 20148"
   ]
  },
  {
   "cell_type": "code",
   "execution_count": null,
   "id": "c464f103",
   "metadata": {},
   "outputs": [],
   "source": [
    "dcurve_Ndots = 15\n",
    "data_X = np.zeros([dataset_size, dcurve_Ndots*4])\n",
    "for i in range(dataset_size):\n",
    "    data_X[i, :dcurve_Ndots] = clust_poly3_cut_20160['mono']['1_mode_s'][i][:]\n",
    "    data_X[i, dcurve_Ndots:dcurve_Ndots*2] = clust_poly3_cut_20160['mono']['2_mode_s'][i][:]\n",
    "    data_X[i, dcurve_Ndots*2:dcurve_Ndots*3] = clust_poly3_cut_20160['dipo']['1_mode_s'][i][:]\n",
    "    data_X[i, dcurve_Ndots*3:] = clust_poly3_cut_20160['dipo']['2_mode_s'][i][:]\n",
    "\n",
    "\n",
    "coef1 = np.max(data_X[:, :dcurve_Ndots])\n",
    "coef2 = np.max(data_X[:, dcurve_Ndots:dcurve_Ndots*2])\n",
    "coef3 = np.max(data_X[:, dcurve_Ndots*2:dcurve_Ndots*3])\n",
    "coef4 = np.max(data_X[:, dcurve_Ndots*3:])"
   ]
  },
  {
   "cell_type": "code",
   "execution_count": null,
   "id": "8699184b",
   "metadata": {},
   "outputs": [],
   "source": [
    "with open(train_output_folder + 'history', 'rb') as file_history:\n",
    "    history = pickle.load(file_history)\n",
    "with open(train_output_folder + 'predictions_valid.pkl', 'rb') as fp:\n",
    "    predictions_valid = pickle.load(fp)\n",
    "with open(train_output_folder + 'y_val.pkl', 'rb') as fp:\n",
    "    y_val = pickle.load(fp)"
   ]
  },
  {
   "cell_type": "code",
   "execution_count": null,
   "id": "0f63ee3a",
   "metadata": {},
   "outputs": [],
   "source": [
    "y_val.shape"
   ]
  },
  {
   "cell_type": "code",
   "execution_count": null,
   "id": "5ba14dd1",
   "metadata": {},
   "outputs": [],
   "source": [
    "a = np.random.rand(3,2)"
   ]
  },
  {
   "cell_type": "code",
   "execution_count": null,
   "id": "53c18b0f",
   "metadata": {},
   "outputs": [],
   "source": [
    "a"
   ]
  },
  {
   "cell_type": "code",
   "execution_count": null,
   "id": "1b8aa459",
   "metadata": {},
   "outputs": [],
   "source": [
    "np.random.shuffle(a)"
   ]
  },
  {
   "cell_type": "code",
   "execution_count": null,
   "id": "557cef5b",
   "metadata": {},
   "outputs": [],
   "source": [
    "a"
   ]
  },
  {
   "cell_type": "code",
   "execution_count": null,
   "id": "d5ca9e82",
   "metadata": {},
   "outputs": [],
   "source": [
    "plt.plot(history['val_loss'][1000:])\n",
    "plt.plot(history['loss'][1000:])"
   ]
  },
  {
   "cell_type": "code",
   "execution_count": null,
   "id": "3301fde9",
   "metadata": {},
   "outputs": [],
   "source": [
    "y_val.shape"
   ]
  },
  {
   "cell_type": "code",
   "execution_count": null,
   "id": "308e780c",
   "metadata": {},
   "outputs": [],
   "source": [
    "fig, ax = plt.subplots()\n",
    "fig.set_size_inches(10, 10)\n",
    "for i in range(0, 2015, 10):\n",
    "    ax.cla()\n",
    "    ax.plot(clust_poly3_cut_20160['mono']['1_mode_f'], y_val[i,:dcurve_Ndots]*coef1, 'ko', label='true')\n",
    "    ax.plot(clust_poly3_cut_20160['mono']['2_mode_f'], y_val[i,dcurve_Ndots:dcurve_Ndots*2]*coef2, 'ko')\n",
    "    ax.plot(clust_poly3_cut_20160['dipo']['1_mode_f'], y_val[i,dcurve_Ndots*2:dcurve_Ndots*3]*coef3, 'ko')\n",
    "    ax.plot(clust_poly3_cut_20160['dipo']['2_mode_f'], y_val[i,dcurve_Ndots*3:]*coef4, 'ko')\n",
    "    ax.plot(clust_poly3_cut_20160['mono']['1_mode_f'], predictions_valid[i, :dcurve_Ndots]*coef1, 'r.', label='pred')\n",
    "    ax.plot(clust_poly3_cut_20160['mono']['2_mode_f'], predictions_valid[i, dcurve_Ndots:dcurve_Ndots*2]*coef2, 'r.')\n",
    "    ax.plot(clust_poly3_cut_20160['dipo']['1_mode_f'], predictions_valid[i, dcurve_Ndots*2:dcurve_Ndots*3]*coef3, 'r.')\n",
    "    ax.plot(clust_poly3_cut_20160['dipo']['2_mode_f'], predictions_valid[i, dcurve_Ndots*3:]*coef4, 'r.')\n",
    "    ax.legend(loc='upper right')\n",
    "    ax.set_ylabel('slow, musec/m')\n",
    "    ax.set_xlabel('freq, kHz')\n",
    "    display.display(fig)\n",
    "    display.clear_output(wait = True)\n",
    "    plt.pause(1)"
   ]
  },
  {
   "cell_type": "markdown",
   "id": "311d8d55",
   "metadata": {},
   "source": [
    "Weight analysis"
   ]
  },
  {
   "cell_type": "code",
   "execution_count": null,
   "id": "ed2cad86",
   "metadata": {},
   "outputs": [],
   "source": [
    "import tensorflow as tf\n",
    "mse = tf.keras.losses.MeanSquaredError()"
   ]
  },
  {
   "cell_type": "code",
   "execution_count": null,
   "id": "3db528d0",
   "metadata": {},
   "outputs": [],
   "source": [
    "from tensorflow import keras.load_model\n",
    "model1 = keras.models.load_model('./experiments3/1/train_output3/model.h5')\n",
    "model2 = keras.models.load_model('./experiments3/2/train_output3/model.h5')"
   ]
  },
  {
   "cell_type": "code",
   "execution_count": null,
   "id": "4c55214a",
   "metadata": {},
   "outputs": [],
   "source": [
    "with open('./experiments3/1/train_output3/history', 'rb') as file_history:\n",
    "    history1 = pickle.load(file_history)"
   ]
  },
  {
   "cell_type": "code",
   "execution_count": null,
   "id": "5dedd143",
   "metadata": {},
   "outputs": [],
   "source": [
    "with open('./experiments3/2/train_output3/history', 'rb') as file_history:\n",
    "    history2 = pickle.load(file_history)"
   ]
  },
  {
   "cell_type": "code",
   "execution_count": null,
   "id": "52933b40",
   "metadata": {},
   "outputs": [],
   "source": [
    "fig, ax = plt.subplots()\n",
    "fig.set_size_inches(14,8)\n",
    "# ax.plot(history1['loss'][:])\n",
    "ax.plot(history1['loss'][-1000:])\n",
    "ax.plot(history1['val_loss'][-1000:])"
   ]
  },
  {
   "cell_type": "code",
   "execution_count": null,
   "id": "f9f04700",
   "metadata": {},
   "outputs": [],
   "source": [
    "fig, ax = plt.subplots()\n",
    "fig.set_size_inches(14,8)\n",
    "# ax.plot(history1['loss'][:])\n",
    "ax.plot(history2['loss'][-1000:])\n",
    "ax.plot(history2['val_loss'][-1000:])"
   ]
  },
  {
   "cell_type": "code",
   "execution_count": null,
   "id": "7ee2304f",
   "metadata": {
    "scrolled": true
   },
   "outputs": [],
   "source": [
    "for i,layer in enumerate(model1.layers):\n",
    "    if i == 0:\n",
    "        continue\n",
    "    print(layer.get_weights()[0].shape, end=':\\t')\n",
    "    print(np.max(layer.get_weights()[0]), end='\\t')\n",
    "    print(np.min(layer.get_weights()[0]), end='\\t| ')\n",
    "    print(layer.get_weights()[0].shape, end=':\\t')\n",
    "    print(np.max(layer.get_weights()[1]), end='\\t')\n",
    "    print(np.min(layer.get_weights()[1]), end='\\t')\n",
    "    print(layer.get_weights()[1].shape)"
   ]
  },
  {
   "cell_type": "code",
   "execution_count": null,
   "id": "129a333c",
   "metadata": {},
   "outputs": [],
   "source": [
    "for i,layer in enumerate(model2.layers):\n",
    "    if i == 0:\n",
    "        continue\n",
    "    print(layer.get_weights()[0].shape, end=':\\t')\n",
    "    print(np.max(layer.get_weights()[0]), end='\\t')\n",
    "    print(np.min(layer.get_weights()[0]), end='\\t| ')\n",
    "    print(layer.get_weights()[0].shape, end=':\\t')\n",
    "    print(np.max(layer.get_weights()[1]), end='\\t')\n",
    "    print(np.min(layer.get_weights()[1]), end='\\t')\n",
    "    print(layer.get_weights()[1].shape)"
   ]
  },
  {
   "cell_type": "code",
   "execution_count": null,
   "id": "b21486f2",
   "metadata": {},
   "outputs": [],
   "source": [
    "n = 2\n",
    "plt.plot(model1.layers[n].get_weights()[0][0], '.')\n",
    "plt.plot(model2.layers[n].get_weights()[0][0], '.')"
   ]
  },
  {
   "cell_type": "code",
   "execution_count": null,
   "id": "94d49ded",
   "metadata": {},
   "outputs": [],
   "source": []
  }
 ],
 "metadata": {
  "kernelspec": {
   "display_name": "Python 3 (ipykernel)",
   "language": "python",
   "name": "python3"
  },
  "language_info": {
   "codemirror_mode": {
    "name": "ipython",
    "version": 3
   },
   "file_extension": ".py",
   "mimetype": "text/x-python",
   "name": "python",
   "nbconvert_exporter": "python",
   "pygments_lexer": "ipython3",
   "version": "3.7.9"
  }
 },
 "nbformat": 4,
 "nbformat_minor": 5
}
