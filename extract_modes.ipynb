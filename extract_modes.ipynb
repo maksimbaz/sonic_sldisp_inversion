{
 "cells": [
  {
   "cell_type": "code",
   "execution_count": 1,
   "metadata": {},
   "outputs": [],
   "source": [
    "import numpy as np\n",
    "import pickle\n",
    "from matplotlib import pyplot as plt"
   ]
  },
  {
   "cell_type": "code",
   "execution_count": 2,
   "metadata": {},
   "outputs": [],
   "source": [
    "from IPython import display\n",
    "from scipy import interpolate"
   ]
  },
  {
   "cell_type": "code",
   "execution_count": 3,
   "metadata": {},
   "outputs": [],
   "source": [
    "folder = './dataset/20160/2_poles/noise50/'"
   ]
  },
  {
   "cell_type": "code",
   "execution_count": 4,
   "metadata": {},
   "outputs": [],
   "source": [
    "with open (folder + 'slow_2mat_20148_noise.pkl', 'rb') as fp:\n",
    "    data_X2 = pickle.load(fp) # all values 0 or 1"
   ]
  },
  {
   "cell_type": "code",
   "execution_count": 5,
   "metadata": {},
   "outputs": [],
   "source": [
    "# # noise\n",
    "# with open ('./dataset/20160/2_poles/noise25_2/slow_2mat_20160.pkl', 'rb') as fp:\n",
    "#     data_X1 = pickle.load(fp) # all values 0 or 1"
   ]
  },
  {
   "cell_type": "code",
   "execution_count": 6,
   "metadata": {},
   "outputs": [],
   "source": [
    "# data_X = np.concatenate([data_X1, data_X2])\n",
    "data_X = data_X2"
   ]
  },
  {
   "cell_type": "code",
   "execution_count": 7,
   "metadata": {},
   "outputs": [
    {
     "name": "stdout",
     "output_type": "stream",
     "text": [
      "(20148, 73, 2, 2)\n"
     ]
    }
   ],
   "source": [
    "print(data_X.shape)"
   ]
  },
  {
   "cell_type": "code",
   "execution_count": 12,
   "metadata": {},
   "outputs": [],
   "source": [
    "dataset_size = 20148\n",
    "# dataset_size = 4000\n",
    "assert data_X.shape[0] == dataset_size"
   ]
  },
  {
   "cell_type": "markdown",
   "metadata": {},
   "source": [
    "freqs for the 28148 dataset"
   ]
  },
  {
   "cell_type": "code",
   "execution_count": 13,
   "metadata": {},
   "outputs": [
    {
     "name": "stdout",
     "output_type": "stream",
     "text": [
      "(73,)\n"
     ]
    }
   ],
   "source": [
    "# check plot_dataset.ipynb\n",
    "data_freq = np.array([ 0.59941229,  0.79921638,  0.99902048,  1.19882458,  1.39862867,\n",
    "        1.59843277,  1.79823686,  1.99804096,  2.19784506,  2.39764915,\n",
    "        2.59745325,  2.79725735,  2.99706144,  3.19686554,  3.39666963,\n",
    "        3.59647373,  3.79627783,  3.99608192,  4.19588602,  4.39569011,\n",
    "        4.59549421,  4.79529831,  4.9951024 ,  5.1949065 ,  5.39471059,\n",
    "        5.59451469,  5.79431879,  5.99412288,  6.19392698,  6.39373107,\n",
    "        6.59353517,  6.79333927,  6.99314336,  7.19294746,  7.39275155,\n",
    "        7.59255565,  7.79235975,  7.99216384,  8.19196794,  8.39177204,\n",
    "        8.59157613,  8.79138023,  8.99118432,  9.19098842,  9.39079252,\n",
    "        9.59059661,  9.79040071,  9.9902048 , 10.1900089 , 10.389813  ,\n",
    "       10.58961709, 10.78942119, 10.98922528, 11.18902938, 11.38883348,\n",
    "       11.58863757, 11.78844167, 11.98824576, 12.18804986, 12.38785396,\n",
    "       12.58765805, 12.78746215, 12.98726625, 13.18707034, 13.38687444,\n",
    "       13.58667853, 13.78648263, 13.98628673, 14.18609082, 14.38589492,\n",
    "       14.58569901, 14.78550311, 14.98530721])\n",
    "print(data_freq.shape)"
   ]
  },
  {
   "cell_type": "code",
   "execution_count": 11,
   "metadata": {},
   "outputs": [],
   "source": [
    "# # cut monopole freqs (for stonely)\n",
    "# idx1_start = np.where(data_freq - 0.5 > 0)[0][0]\n",
    "# idx1_end = np.where(data_freq - 6 > 0)[0][0]\n",
    "# # cut dipole freqs for 1st dipole\n",
    "# idx2_start = np.where(data_freq - 2 > 0)[0][0]\n",
    "# idx2_end = np.where(data_freq - 7 > 0)[0][0]"
   ]
  },
  {
   "cell_type": "code",
   "execution_count": 12,
   "metadata": {},
   "outputs": [],
   "source": [
    "# print(idx1_start, idx1_end, idx2_start, idx2_end)\n",
    "# print(data_freq[idx1_start], data_freq[idx1_end], data_freq[idx2_start], data_freq[idx2_end])"
   ]
  },
  {
   "cell_type": "code",
   "execution_count": 13,
   "metadata": {},
   "outputs": [
    {
     "data": {
      "text/plain": [
       "[<matplotlib.lines.Line2D at 0x7fe253181af0>]"
      ]
     },
     "execution_count": 13,
     "metadata": {},
     "output_type": "execute_result"
    },
    {
     "data": {
      "image/png": "[encoded data removed]",
      "text/plain": [
       "<Figure size 864x576 with 1 Axes>"
      ]
     },
     "metadata": {
      "needs_background": "light"
     },
     "output_type": "display_data"
    }
   ],
   "source": [
    "fig, ax = plt.subplots()\n",
    "fig.set_size_inches(12,8)\n",
    "n = 0\n",
    "ax.plot(data_freq, data_X[n, :, 1, 1],'.')\n",
    "ax.plot(data_freq, data_X[n, :, 0, 1],'x')\n",
    "ax.plot(data_freq, data_X[n, :, 1, 0],'v')\n",
    "ax.plot(data_freq, data_X[n, :, 0, 0],'o')"
   ]
  },
  {
   "cell_type": "markdown",
   "metadata": {},
   "source": [
    "detect curve parts for the whole dataset"
   ]
  },
  {
   "cell_type": "code",
   "execution_count": 14,
   "metadata": {},
   "outputs": [],
   "source": [
    "# def detect_non_zeros(k,j):\n",
    "#     ones = np.ones(len(data_freq))\n",
    "#     num_of_nonzero = np.zeros(len(data_freq))\n",
    "#     for i in range(data_X.shape[0]):\n",
    "#         idx_non0 = np.where(data_X[i, :, k, j] > 0)\n",
    "#         num_of_nonzero[idx_non0] += ones[idx_non0]\n",
    "#     idx = np.where(num_of_nonzero > 15000)\n",
    "#     fig, ax = plt.subplots(1,2)\n",
    "#     fig.set_size_inches(8,2)\n",
    "#     ax[0].plot(data_freq, num_of_nonzero, '.')\n",
    "#     ax[1].plot(data_freq[idx], num_of_nonzero[idx], 'x')\n",
    "#     return num_of_nonzero, idx"
   ]
  },
  {
   "cell_type": "code",
   "execution_count": 15,
   "metadata": {},
   "outputs": [],
   "source": [
    "# # first monopole\n",
    "# num_of_nonzero_1m, idx_1m = detect_non_zeros(1,1)\n",
    "# # second monopole\n",
    "# num_of_nonzero_2m, idx_2m = detect_non_zeros(0,1)"
   ]
  },
  {
   "cell_type": "code",
   "execution_count": 16,
   "metadata": {},
   "outputs": [],
   "source": [
    "# # first dipole\n",
    "# num_of_nonzero_1d, idx_1d = detect_non_zeros(1,0)\n",
    "# # second dipole\n",
    "# num_of_nonzero_2d, idx_2d = detect_non_zeros(0,0)"
   ]
  },
  {
   "cell_type": "code",
   "execution_count": 17,
   "metadata": {},
   "outputs": [],
   "source": [
    "# calc mu\n",
    "mu_curve = np.zeros([len(data_freq), 2, 2])\n",
    "for i in range(dataset_size):\n",
    "    mu_curve[:, 0, 0] += data_X[i, :, 0, 0]\n",
    "    mu_curve[:, 0, 1] += data_X[i, :, 0, 1]\n",
    "    mu_curve[:, 1, 0] += data_X[i, :, 1, 0]\n",
    "    mu_curve[:, 1, 1] += data_X[i, :, 1, 1]\n",
    "mu_curve /= data_X.shape[0]"
   ]
  },
  {
   "cell_type": "code",
   "execution_count": 18,
   "metadata": {},
   "outputs": [],
   "source": [
    "# calc std\n",
    "std_curve = np.zeros([len(data_freq), 2, 2])\n",
    "for i in range(dataset_size):\n",
    "    std_curve[:, 0, 0] += (data_X[i, :, 0, 0] - mu_curve[:, 0, 0])**2/dataset_size\n",
    "    std_curve[:, 0, 1] += (data_X[i, :, 0, 1] - mu_curve[:, 0, 1])**2/dataset_size\n",
    "    std_curve[:, 1, 0] += (data_X[i, :, 1, 0] - mu_curve[:, 1, 0])**2/dataset_size\n",
    "    std_curve[:, 1, 1] += (data_X[i, :, 1, 1] - mu_curve[:, 1, 1])**2/dataset_size\n",
    "std_curve = np.sqrt(std_curve)"
   ]
  },
  {
   "cell_type": "code",
   "execution_count": 19,
   "metadata": {},
   "outputs": [
    {
     "data": {
      "text/plain": [
       "Text(0.5, 1.0, 'std curve')"
      ]
     },
     "execution_count": 19,
     "metadata": {},
     "output_type": "execute_result"
    },
    {
     "data": {
      "image/png": "[encoded data removed]",
      "text/plain": [
       "<Figure size 936x576 with 2 Axes>"
      ]
     },
     "metadata": {
      "needs_background": "light"
     },
     "output_type": "display_data"
    }
   ],
   "source": [
    "fig, ax = plt.subplots(1,2)\n",
    "fig.set_size_inches(13,8)\n",
    "ax[0].plot(data_freq, mu_curve[:, 1, 1], '.')\n",
    "ax[0].plot(data_freq, mu_curve[:, 0, 1], 'x')\n",
    "ax[0].plot(data_freq, mu_curve[:, 1, 0], 'v')\n",
    "ax[0].plot(data_freq, mu_curve[:, 0, 0], 'o')\n",
    "ax[0].set_title('mu curve')\n",
    "# --------------- #\n",
    "ax[1].plot(data_freq, std_curve[:, 1, 1], '.')\n",
    "ax[1].plot(data_freq, std_curve[:, 0, 1], 'x')\n",
    "ax[1].plot(data_freq, std_curve[:, 1, 0], 'v')\n",
    "ax[1].plot(data_freq, std_curve[:, 0, 0], 'o')\n",
    "ax[1].set_title('std curve')"
   ]
  },
  {
   "cell_type": "code",
   "execution_count": 20,
   "metadata": {},
   "outputs": [
    {
     "data": {
      "text/plain": [
       "[<matplotlib.lines.Line2D at 0x7fe251db32e0>]"
      ]
     },
     "execution_count": 20,
     "metadata": {},
     "output_type": "execute_result"
    },
    {
     "data": {
      "image/png": "[encoded data removed]",
      "text/plain": [
       "<Figure size 864x576 with 1 Axes>"
      ]
     },
     "metadata": {
      "needs_background": "light"
     },
     "output_type": "display_data"
    }
   ],
   "source": [
    "# (s == start; e == end)\n",
    "# 1 or 2 == mode number\n",
    "# d == dipole; m == monopole\n",
    "# a, b - part\n",
    "# ----------------------------------- #\n",
    "fig, ax = plt.subplots()\n",
    "fig.set_size_inches(12,8)\n",
    "# first monopole\n",
    "s1m = 2; e1m = 26\n",
    "ax.plot(data_freq[s1m:e1m], mu_curve[s1m:e1m, 1, 1],'.', color='tab:blue')\n",
    "# second monopole\n",
    "s2m_a = 42; e2m_a = 57\n",
    "ax.plot(data_freq[s2m_a:e2m_a], mu_curve[s2m_a:e2m_a, 1, 1],'.', color='tab:orange')\n",
    "# s2m_b = 13; e2m_b = 33\n",
    "# ax.plot(data_freq[s2m_b:e2m_b], mu_curve[s2m_b:e2m_b, 0, 1],'x', color='tab:orange')\n",
    "# first dipole\n",
    "s1d = 8; e1d = 35\n",
    "ax.plot(data_freq[s1d:e1d], mu_curve[s1d:e1d, 1, 0],'v', color='tab:green')\n",
    "# second dipole\n",
    "# s2d_a = 14; e2d_a = 37\n",
    "# ax.plot(data_freq[s2d_a:e2d_a], mu_curve[s2d_a:e2d_a, 0, 0], 'o', color='tab:red')\n",
    "# s2d_b = 46; e2d_b = 67\n",
    "# ax.plot(data_freq[s2d_b:e2d_b], mu_curve[s2d_b:e2d_b, 1, 0],'v', color='tab:red')"
   ]
  },
  {
   "cell_type": "markdown",
   "metadata": {},
   "source": [
    "dataset construction"
   ]
  },
  {
   "cell_type": "code",
   "execution_count": 21,
   "metadata": {},
   "outputs": [
    {
     "name": "stdout",
     "output_type": "stream",
     "text": [
      "66\n"
     ]
    }
   ],
   "source": [
    "# 3 parts\n",
    "input_shape = \\\n",
    "e1d - s1d + \\\n",
    "e1m - s1m + \\\n",
    "e2m_a - s2m_a\n",
    "print(input_shape)"
   ]
  },
  {
   "cell_type": "code",
   "execution_count": 22,
   "metadata": {},
   "outputs": [],
   "source": [
    "# # 6 parts\n",
    "# input_shape = \\\n",
    "# e1d - s1d + \\\n",
    "# e1m - s1m + \\\n",
    "# e2d_a - s2d_a + \\\n",
    "# e2d_b - s2d_b + \\\n",
    "# e2m_a - s2m_a + \\\n",
    "# e2m_b - s2m_b\n",
    "# print(input_shape)"
   ]
  },
  {
   "cell_type": "code",
   "execution_count": 23,
   "metadata": {},
   "outputs": [],
   "source": [
    "# flatten\n",
    "data_X_new = np.zeros([data_X.shape[0], input_shape])\n",
    "for i in range(data_X.shape[0]):\n",
    "    # first dipole\n",
    "    flat_arr_temp = data_X[i,s1d:e1d,1,0]\n",
    "    # second dipole\n",
    "#     flat_arr_temp = np.append(flat_arr_temp, data_X[i,s2d_a:e2d_a,0,0])\n",
    "#     flat_arr_temp = np.append(flat_arr_temp, data_X[i,s2d_b:e2d_b,1,0])\n",
    "    # first monopole\n",
    "    flat_arr_temp = np.append(flat_arr_temp, data_X[i,s1m:e1m,1,1])\n",
    "    # second monopole\n",
    "#     flat_arr_temp = np.append(flat_arr_temp, data_X[i,s2m_b:e2m_b,0,1])\n",
    "    flat_arr_temp = np.append(flat_arr_temp, data_X[i,s2m_a:e2m_a,1,1])\n",
    "    data_X_new[i, :] = flat_arr_temp"
   ]
  },
  {
   "cell_type": "code",
   "execution_count": 24,
   "metadata": {},
   "outputs": [
    {
     "data": {
      "image/png": "[encoded data removed]",
      "text/plain": [
       "<Figure size 864x576 with 1 Axes>"
      ]
     },
     "metadata": {
      "needs_background": "light"
     },
     "output_type": "display_data"
    }
   ],
   "source": [
    "fig, ax = plt.subplots()\n",
    "fig.set_size_inches(12, 8)\n",
    "# for i in range(10000,data_X_new.shape[0],2):\n",
    "for i in range(1,2):\n",
    "    ax.cla()\n",
    "    ax.plot(data_X_new[i, :],'.')\n",
    "    ax.plot(data_X_new[i+1, :],'.')\n",
    "#     ax.set_ylim([-1, 1])\n",
    "    ax.set_ylim([0, 750])\n",
    "    display.display(fig)\n",
    "    display.clear_output(wait = True)"
   ]
  },
  {
   "cell_type": "code",
   "execution_count": 25,
   "metadata": {},
   "outputs": [],
   "source": [
    "# with open(folder + 'dataX_extracted20148_noise.pkl', 'wb') as fp:\n",
    "#     pickle.dump(data_X_new, fp)"
   ]
  },
  {
   "cell_type": "code",
   "execution_count": null,
   "metadata": {},
   "outputs": [],
   "source": [
    "data_X_new.shape"
   ]
  },
  {
   "cell_type": "markdown",
   "metadata": {},
   "source": [
    "### ----------------- #"
   ]
  },
  {
   "cell_type": "markdown",
   "metadata": {},
   "source": [
    "#### the same with safe dataset"
   ]
  },
  {
   "cell_type": "code",
   "execution_count": null,
   "metadata": {},
   "outputs": [],
   "source": [
    "dataset_size = 300"
   ]
  },
  {
   "cell_type": "markdown",
   "metadata": {},
   "source": [
    "load safe"
   ]
  },
  {
   "cell_type": "code",
   "execution_count": null,
   "metadata": {},
   "outputs": [],
   "source": [
    "safe_extra300_params = np.zeros([dataset_size, 7])\n",
    "safe_extra300_freq = np.zeros(30)\n",
    "safe_extra300_slow = np.zeros([dataset_size, 30, 6])\n",
    "for i in range(dataset_size):\n",
    "    params_read = np.loadtxt('./dataset/safe_extra300/my_output/'+str(i)+'_my_params.txt', delimiter=',')\n",
    "    data_read = np.loadtxt('./dataset/safe_extra300/my_output/'+str(i)+'_out_data.txt', delimiter=',')\n",
    "    safe_extra300_params[i, :] = params_read\n",
    "    safe_extra300_slow[i, :, :] = data_read[:, 1:]/0.3048\n",
    "    if i == 0:\n",
    "        safe_extra300_freq[:] = data_read[:,0]"
   ]
  },
  {
   "cell_type": "code",
   "execution_count": null,
   "metadata": {},
   "outputs": [],
   "source": [
    "safe_extra300_slow.shape"
   ]
  },
  {
   "cell_type": "code",
   "execution_count": null,
   "metadata": {},
   "outputs": [],
   "source": [
    "_ = plt.plot(safe_extra300_slow[0, :, :], '.')"
   ]
  },
  {
   "cell_type": "markdown",
   "metadata": {},
   "source": [
    "interpolate"
   ]
  },
  {
   "cell_type": "code",
   "execution_count": null,
   "metadata": {},
   "outputs": [],
   "source": [
    "safe_extra300_slow_interp = np.zeros([dataset_size, len(data_freq), 4])"
   ]
  },
  {
   "cell_type": "code",
   "execution_count": null,
   "metadata": {},
   "outputs": [],
   "source": [
    "for i in range(dataset_size):\n",
    "    f0 = interpolate.interp1d(safe_extra300_freq, safe_extra300_slow[i, :, 0])\n",
    "    f1 = interpolate.interp1d(safe_extra300_freq, safe_extra300_slow[i, :, 1])\n",
    "    f2 = interpolate.interp1d(safe_extra300_freq, safe_extra300_slow[i, :, 2])\n",
    "    f3 = interpolate.interp1d(safe_extra300_freq, safe_extra300_slow[i, :, 3])\n",
    "    safe_extra300_slow_interp[i, :, 0] = f0(data_freq)\n",
    "    safe_extra300_slow_interp[i, :, 1] = f1(data_freq)\n",
    "    safe_extra300_slow_interp[i, :, 2] = f2(data_freq)\n",
    "    safe_extra300_slow_interp[i, :, 3] = f3(data_freq)"
   ]
  },
  {
   "cell_type": "code",
   "execution_count": null,
   "metadata": {},
   "outputs": [],
   "source": [
    "fig, ax = plt.subplots()\n",
    "fig.set_size_inches(12,8)\n",
    "i = 100\n",
    "ax.plot(data_freq, safe_extra300_slow_interp[i, :, 0], '.')\n",
    "ax.plot(data_freq, safe_extra300_slow_interp[i, :, 1], 'x')\n",
    "ax.plot(data_freq, safe_extra300_slow_interp[i, :, 2], 'v')\n",
    "ax.plot(data_freq, safe_extra300_slow_interp[i, :, 3], 'o')"
   ]
  },
  {
   "cell_type": "code",
   "execution_count": null,
   "metadata": {},
   "outputs": [],
   "source": [
    "safe_extra300_slow_new = np.zeros([dataset_size, input_shape])\n",
    "for i in range(dataset_size):\n",
    "    # first dipole\n",
    "    flat_arr_temp = safe_extra300_slow_interp[i,s1d:e1d,2]\n",
    "    # second dipole\n",
    "#     flat_arr_temp = np.append(flat_arr_temp, safe_extra300_slow_interp[i,s2d_a:e2d_a,1])\n",
    "#     flat_arr_temp = np.append(flat_arr_temp, safe_extra300_slow_interp[i,s2d_b:e2d_b,1])\n",
    "    # first monopole\n",
    "    flat_arr_temp = np.append(flat_arr_temp, safe_extra300_slow_interp[i,s1m:e1m,0])\n",
    "    # second monopole\n",
    "#     flat_arr_temp = np.append(flat_arr_temp, safe_extra300_slow_interp[i,s2m_b:e2m_b,1])\n",
    "    flat_arr_temp = np.append(flat_arr_temp, safe_extra300_slow_interp[i,s2m_a:e2m_a,1])\n",
    "    safe_extra300_slow_new[i, :] = flat_arr_temp"
   ]
  },
  {
   "cell_type": "code",
   "execution_count": null,
   "metadata": {},
   "outputs": [],
   "source": [
    "_ = plt.plot(safe_extra300_slow_new[0, :], '.')"
   ]
  },
  {
   "cell_type": "code",
   "execution_count": null,
   "metadata": {},
   "outputs": [],
   "source": [
    "_ = plt.plot(data_X_new[500, :], '.')\n",
    "_ = plt.plot(safe_extra300_slow_new[90, :], '.')"
   ]
  },
  {
   "cell_type": "code",
   "execution_count": null,
   "metadata": {},
   "outputs": [],
   "source": [
    "# with open('./dataset/safe_extra300/safe_X_extracetd_modes.pkl', 'wb') as fp:\n",
    "#     pickle.dump(safe_extra300_slow_new, fp)"
   ]
  },
  {
   "cell_type": "code",
   "execution_count": null,
   "metadata": {},
   "outputs": [],
   "source": [
    "# fig, ax = plt.subplots()\n",
    "# fig.set_size_inches(12, 8)\n",
    "# for i in range(300):\n",
    "#     ax.cla()\n",
    "#     ax.plot(data_X_new[i, :],'.')\n",
    "#     ax.plot(data_X_new[20148+i, :],'.')\n",
    "#     ax.plot(safe_extra300_slow_new[i, :],'.')\n",
    "#     ax.set_ylim([0, 750])\n",
    "#     display.display(fig)\n",
    "#     display.clear_output(wait = True)"
   ]
  },
  {
   "cell_type": "markdown",
   "metadata": {},
   "source": [
    "### ----------------------"
   ]
  },
  {
   "cell_type": "markdown",
   "metadata": {},
   "source": [
    "#### the same with sens21 dataset"
   ]
  },
  {
   "cell_type": "code",
   "execution_count": null,
   "metadata": {},
   "outputs": [],
   "source": [
    "with open ('./dataset/sens_full_vti_21/data_sens21.pkl', 'rb') as fp:\n",
    "    data_sens21 = pickle.load(fp)\n",
    "print(data_sens21.keys())"
   ]
  },
  {
   "cell_type": "code",
   "execution_count": null,
   "metadata": {},
   "outputs": [],
   "source": [
    "print(data_sens21['data_slow'].shape)\n",
    "print(data_sens21['safe_slow'].shape)"
   ]
  },
  {
   "cell_type": "code",
   "execution_count": null,
   "metadata": {},
   "outputs": [],
   "source": [
    "# slowness sorting\n",
    "for i in range(data_sens21['data_slow'].shape[0]):\n",
    "    for j in range(data_sens21['data_slow'].shape[2]):\n",
    "        for k in range(data_sens21['data_slow'].shape[1]):\n",
    "            idx = np.argsort(data_sens21['data_slow'][i,k,:,j])\n",
    "            data_sens21['data_slow'][i,k,:,j] = data_sens21['data_slow'][i,k,idx,j]\n",
    "            #data_amps[i,k,:,j] = data_amps[i,k,idx,j]"
   ]
  },
  {
   "cell_type": "code",
   "execution_count": null,
   "metadata": {},
   "outputs": [],
   "source": [
    "plt.plot(data_sens21['data_freq'], data_sens21['data_slow'][0, :, :, 0], 'o')\n",
    "plt.plot(data_sens21['data_freq'], data_sens21['data_slow'][0, :, :, 1], 'o')\n",
    "plt.plot(data_sens21['safe_freq'], data_sens21['safe_slow'][0, :, :], 'k.')"
   ]
  },
  {
   "cell_type": "code",
   "execution_count": null,
   "metadata": {},
   "outputs": [],
   "source": [
    "# cut freqs\n",
    "freq_start_idx = np.where(data_sens21['data_freq'] - 0.5 > 0)[0][0]\n",
    "freq_end_idx = np.where(data_sens21['data_freq'] - 15 > 0)[0][0]\n",
    "data_freq_new = data_sens21['data_freq'][freq_start_idx:freq_end_idx]\n",
    "print(len(data_freq_new))\n",
    "data_slow21 = np.zeros([21, len(data_freq_new), 2, 2])\n",
    "for i in range(21):\n",
    "    for j in range(2):\n",
    "        for k in range(2):\n",
    "            data_slow21[i, :, j, k] = data_sens21['data_slow'][i, freq_start_idx:freq_end_idx, j, k]\n",
    "print(data_slow21.shape)"
   ]
  },
  {
   "cell_type": "code",
   "execution_count": null,
   "metadata": {},
   "outputs": [],
   "source": [
    "# interpolate safe data\n",
    "safe_sens21 = np.zeros([21, len(data_freq_new), 4])\n",
    "for i in range(21):\n",
    "    f0 = interpolate.interp1d(data_sens21['safe_freq'], data_sens21['safe_slow'][i, :, 0])\n",
    "    f1 = interpolate.interp1d(data_sens21['safe_freq'], data_sens21['safe_slow'][i, :, 1])\n",
    "    f2 = interpolate.interp1d(data_sens21['safe_freq'], data_sens21['safe_slow'][i, :, 2])\n",
    "    f3 = interpolate.interp1d(data_sens21['safe_freq'], data_sens21['safe_slow'][i, :, 3])\n",
    "    safe_sens21[i, :, 0] = f0(data_freq)\n",
    "    safe_sens21[i, :, 1] = f1(data_freq)\n",
    "    safe_sens21[i, :, 2] = f2(data_freq)\n",
    "    safe_sens21[i, :, 3] = f3(data_freq)\n",
    "print(safe_sens21.shape)"
   ]
  },
  {
   "cell_type": "code",
   "execution_count": null,
   "metadata": {},
   "outputs": [],
   "source": [
    "plt.plot(data_freq_new, data_slow21[0, :, :, 0], 'o')\n",
    "plt.plot(data_freq_new, data_slow21[0, :, :, 1], 'o')\n",
    "plt.plot(data_freq_new, safe_sens21[0, :, :], 'k.')"
   ]
  },
  {
   "cell_type": "code",
   "execution_count": null,
   "metadata": {},
   "outputs": [],
   "source": [
    "# falt dataX 21\n",
    "data_slow21_new = np.zeros([21, input_shape])\n",
    "for i in range(21):\n",
    "    # first dipole\n",
    "    flat_arr_temp = data_slow21[i,s1d:e1d,1,0]\n",
    "    # second dipole\n",
    "#     flat_arr_temp = np.append(flat_arr_temp, data_slow21[i,s2d_a:e2d_a,0,0])\n",
    "#     flat_arr_temp = np.append(flat_arr_temp, data_slow21[i,s2d_b:e2d_b,1,0])\n",
    "    # first monopole\n",
    "    flat_arr_temp = np.append(flat_arr_temp, data_slow21[i,s1m:e1m,1,1])\n",
    "    # second monopole\n",
    "#     flat_arr_temp = np.append(flat_arr_temp, data_slow21[i,s2m_b:e2m_b,0,1])\n",
    "    flat_arr_temp = np.append(flat_arr_temp, data_slow21[i,s2m_a:e2m_a,1,1])\n",
    "    data_slow21_new[i, :] = flat_arr_temp"
   ]
  },
  {
   "cell_type": "code",
   "execution_count": null,
   "metadata": {},
   "outputs": [],
   "source": [
    "# flat safe 21\n",
    "safe_sens21_new = np.zeros([21, input_shape])\n",
    "for i in range(21):\n",
    "    # first dipole\n",
    "    flat_arr_temp = safe_sens21[i,s1d:e1d,2]\n",
    "    # second dipole\n",
    "#     flat_arr_temp = np.append(flat_arr_temp, safe_sens21[i,s2d_a:e2d_a,1])\n",
    "#     flat_arr_temp = np.append(flat_arr_temp, safe_sens21[i,s2d_b:e2d_b,1])\n",
    "    # first monopole\n",
    "    flat_arr_temp = np.append(flat_arr_temp, safe_sens21[i,s1m:e1m,0])\n",
    "    # second monopole\n",
    "#     flat_arr_temp = np.append(flat_arr_temp, safe_sens21[i,s2m_b:e2m_b,1])\n",
    "    flat_arr_temp = np.append(flat_arr_temp, safe_sens21[i,s2m_a:e2m_a,1])\n",
    "    safe_sens21_new[i, :] = flat_arr_temp"
   ]
  },
  {
   "cell_type": "code",
   "execution_count": null,
   "metadata": {},
   "outputs": [],
   "source": [
    "plt.plot(data_slow21_new[0, :], 'o')\n",
    "plt.plot(safe_sens21_new[0, :], '.')"
   ]
  },
  {
   "cell_type": "code",
   "execution_count": null,
   "metadata": {},
   "outputs": [],
   "source": [
    "data_sens21_extracted_flat = {\n",
    "    'data_slow21_new' : data_slow21_new,\n",
    "    'safe_sens21_new' : safe_sens21_new,\n",
    "}"
   ]
  },
  {
   "cell_type": "code",
   "execution_count": null,
   "metadata": {},
   "outputs": [],
   "source": [
    "# with open('./dataset/sens_full_vti_21/data_sens21_extracted_flat.pkl', 'wb') as fp:\n",
    "#     pickle.dump(data_sens21_extracted_flat, fp)"
   ]
  }
 ],
 "metadata": {
  "kernelspec": {
   "display_name": "Python 3 (ipykernel)",
   "language": "python",
   "name": "python3"
  },
  "language_info": {
   "codemirror_mode": {
    "name": "ipython",
    "version": 3
   },
   "file_extension": ".py",
   "mimetype": "text/x-python",
   "name": "python",
   "nbconvert_exporter": "python",
   "pygments_lexer": "ipython3",
   "version": "3.7.9"
  }
 },
 "nbformat": 4,
 "nbformat_minor": 4
}
