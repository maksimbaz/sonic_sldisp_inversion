{
 "cells": [
  {
   "cell_type": "code",
   "execution_count": 19,
   "id": "e86709bb",
   "metadata": {},
   "outputs": [],
   "source": [
    "import numpy as np\n",
    "import pickle\n",
    "from matplotlib import pyplot as plt\n",
    "from IPython import display"
   ]
  },
  {
   "cell_type": "code",
   "execution_count": 2,
   "id": "f089a543",
   "metadata": {},
   "outputs": [
    {
     "name": "stdout",
     "output_type": "stream",
     "text": [
      "(20148, 73, 2, 2)\n"
     ]
    }
   ],
   "source": [
    "# read X data\n",
    "with open ('./dataset/20160/2_poles/slow_2mat_20160.pkl', 'rb') as fp:\n",
    "    data_X1 = pickle.load(fp)\n",
    "# with open ('./dataset/20160/2_poles/noise25/slow_2mat_20160.pkl', 'rb') as fp:\n",
    "#     data_X2 = pickle.load(fp)\n",
    "# with open ('./dataset/20160/2_poles/noise50/slow_2mat_20160.pkl', 'rb') as fp:\n",
    "#     data_X3 = pickle.load(fp)\n",
    "# with open ('./dataset/extra4000/2_poles/slow_2mat_e4000.pkl', 'rb') as fp:\n",
    "#     data_X4 = pickle.load(fp)\n",
    "# with open ('./dataset/extra4000/2_poles/noise25/slow_2mat_e4000.pkl', 'rb') as fp:\n",
    "#     data_X5 = pickle.load(fp)\n",
    "# data_X = np.concatenate([data_X1, data_X2, data_X3, data_X4, data_X5])\n",
    "data_X = data_X1\n",
    "print(data_X.shape)"
   ]
  },
  {
   "cell_type": "code",
   "execution_count": 3,
   "id": "036812b4",
   "metadata": {},
   "outputs": [],
   "source": [
    "# get shape\n",
    "# assert dataset_size == data_X.shape[0]\n",
    "dataset_size = data_X.shape[0]\n",
    "freq_len = data_X.shape[1] # frequency steps\n",
    "num_of_poles = data_X.shape[2] # number of poles use for tko\n",
    "number_of_ch = data_X.shape[3] # number of channels, where 0=dipole, 1=monopole\n",
    "input_shape = freq_len*num_of_poles*number_of_ch"
   ]
  },
  {
   "cell_type": "code",
   "execution_count": 4,
   "id": "098291d6",
   "metadata": {},
   "outputs": [],
   "source": [
    "# reduce dimension (flatten)\n",
    "data_X_new = np.zeros([dataset_size, input_shape])\n",
    "for i in range(dataset_size):\n",
    "    data_X_new[i,0:freq_len] = data_X[i,:,1,0].flatten()\n",
    "    data_X_new[i,freq_len:freq_len*2] = data_X[i,:,1,1].flatten()\n",
    "    data_X_new[i,freq_len*2:freq_len*3] = data_X[i,:,0,0].flatten()\n",
    "    data_X_new[i,freq_len*3:] = data_X[i,:,0,1].flatten()\n",
    "data_X = data_X_new.copy()\n",
    "del data_X_new"
   ]
  },
  {
   "cell_type": "code",
   "execution_count": 5,
   "id": "73e9b161",
   "metadata": {},
   "outputs": [
    {
     "name": "stdout",
     "output_type": "stream",
     "text": [
      "(20148, 292)\n"
     ]
    }
   ],
   "source": [
    "print(data_X.shape)"
   ]
  },
  {
   "cell_type": "code",
   "execution_count": 6,
   "id": "9a0c7020",
   "metadata": {},
   "outputs": [
    {
     "data": {
      "text/plain": [
       "[<matplotlib.lines.Line2D at 0x7f65211a99a0>]"
      ]
     },
     "execution_count": 6,
     "metadata": {},
     "output_type": "execute_result"
    },
    {
     "data": {
      "image/png": "[encoded data removed]",
      "text/plain": [
       "<Figure size 432x288 with 1 Axes>"
      ]
     },
     "metadata": {
      "needs_background": "light"
     },
     "output_type": "display_data"
    }
   ],
   "source": [
    "plt.plot(data_X[0, :],'.')\n",
    "plt.plot(data_X[1000, :],'.')"
   ]
  },
  {
   "cell_type": "code",
   "execution_count": 7,
   "id": "c79a21ee",
   "metadata": {},
   "outputs": [],
   "source": [
    "# calc mu\n",
    "mu_curve = np.zeros([data_X.shape[1]])\n",
    "for i in range(dataset_size):\n",
    "    mu_curve[:] += data_X[i, :]\n",
    "mu_curve /= dataset_size\n",
    "# calc std\n",
    "std_curve = np.zeros([data_X.shape[1]])\n",
    "for i in range(dataset_size):\n",
    "    std_curve += (data_X[i, :] - mu_curve)**2/dataset_size\n",
    "std_curve = np.sqrt(std_curve)\n",
    "std_curve[np.where(std_curve == 0)] = 1"
   ]
  },
  {
   "cell_type": "code",
   "execution_count": 8,
   "id": "7c2c503c",
   "metadata": {},
   "outputs": [],
   "source": [
    "# load std c11\n",
    "with open('std_curve_c11.pkl', 'rb') as fp:\n",
    "    std_curve_c11 = pickle.load(fp)"
   ]
  },
  {
   "cell_type": "code",
   "execution_count": 25,
   "id": "a0a71124",
   "metadata": {},
   "outputs": [
    {
     "data": {
      "image/png": "[encoded data removed]",
      "text/plain": [
       "<Figure size 864x576 with 1 Axes>"
      ]
     },
     "metadata": {
      "needs_background": "light"
     },
     "output_type": "display_data"
    }
   ],
   "source": [
    "fig, ax = plt.subplots()\n",
    "fig.set_size_inches(12,8)\n",
    "for i in range(0,dataset_size, 200):\n",
    "    ax.cla()\n",
    "    ax.plot(data_X[i, :], 'o', color='tab:blue')\n",
    "    idx = np.where(std_curve_c11 > 0)[0]\n",
    "    ax.plot(idx, data_X[i, idx], '.', color='tab:orange')\n",
    "    display.display(fig)\n",
    "    display.clear_output(wait = True)"
   ]
  },
  {
   "cell_type": "code",
   "execution_count": null,
   "id": "ce98094b",
   "metadata": {},
   "outputs": [],
   "source": [
    "# Standardization\n",
    "data_X_norm = np.copy(data_X)\n",
    "for i in range(dataset_size):\n",
    "    data_X_norm[i, :] -= mu_curve\n",
    "    data_X_norm[i, :] /= std_curve\n",
    "    # gain for c11!!!\n",
    "    data_X_norm[i, :] *= std_curve_c11"
   ]
  },
  {
   "cell_type": "code",
   "execution_count": null,
   "id": "40029dc2",
   "metadata": {},
   "outputs": [],
   "source": [
    "fig, ax = plt.subplots(1,2)\n",
    "fig.set_size_inches(13,8)\n",
    "ax[0].plot(mu_curve, '.')\n",
    "ax[0].set_title('mu curve')\n",
    "# --------------- #\n",
    "ax[1].plot(std_curve, '.')\n",
    "ax[1].set_title('std curve')"
   ]
  },
  {
   "cell_type": "code",
   "execution_count": null,
   "id": "8dc18b67",
   "metadata": {},
   "outputs": [],
   "source": [
    "# add noise\n",
    "data_X += np.random.rand(data_X.shape[0],data_X.shape[1])-0.5"
   ]
  },
  {
   "cell_type": "code",
   "execution_count": null,
   "id": "33a9542d",
   "metadata": {},
   "outputs": [],
   "source": [
    "# Standardization\n",
    "data_X_norm = np.copy(data_X)\n",
    "for i in range(dataset_size):\n",
    "    data_X_norm[i, :] -= mu_curve\n",
    "    data_X_norm[i, :] /= std_curve"
   ]
  },
  {
   "cell_type": "code",
   "execution_count": null,
   "id": "99fb3a0a",
   "metadata": {},
   "outputs": [],
   "source": [
    "print('data_X mean:', np.mean(data_X_norm))\n",
    "print('data_X min:', np.min(data_X_norm))\n",
    "print('data_X max:', np.max(data_X_norm))"
   ]
  },
  {
   "cell_type": "code",
   "execution_count": null,
   "id": "da8160aa",
   "metadata": {},
   "outputs": [],
   "source": [
    "plt.plot(data_X_norm[0, :],'.')\n",
    "plt.plot(data_X_norm[1000, :],'.')"
   ]
  },
  {
   "cell_type": "markdown",
   "id": "a9c93e08",
   "metadata": {},
   "source": [
    "# data Y"
   ]
  },
  {
   "cell_type": "code",
   "execution_count": 52,
   "id": "f538de28",
   "metadata": {},
   "outputs": [],
   "source": [
    "from _sonic_inverse_tools import create_Y_data, calc_cij"
   ]
  },
  {
   "cell_type": "code",
   "execution_count": 65,
   "id": "8c2f233a",
   "metadata": {},
   "outputs": [],
   "source": [
    "data_Y, data_Y_idx = create_Y_data('./dataset/20160/ds_logfile_20160.txt', 20148)"
   ]
  },
  {
   "cell_type": "code",
   "execution_count": 66,
   "id": "23fee151",
   "metadata": {},
   "outputs": [],
   "source": [
    "for i in range(data_Y.shape[0]):\n",
    "    data_Y[i,:] = calc_cij(data_Y[i,0], data_Y[i,1], data_Y[i,2], data_Y[i,3], data_Y[i,4], data_Y[i,5])"
   ]
  },
  {
   "cell_type": "code",
   "execution_count": 67,
   "id": "8133f66f",
   "metadata": {},
   "outputs": [],
   "source": [
    "np.savetxt('test.txt', data_Y)"
   ]
  },
  {
   "cell_type": "code",
   "execution_count": null,
   "id": "d60a47ff",
   "metadata": {},
   "outputs": [],
   "source": []
  }
 ],
 "metadata": {
  "kernelspec": {
   "display_name": "Python 3 (ipykernel)",
   "language": "python",
   "name": "python3"
  },
  "language_info": {
   "codemirror_mode": {
    "name": "ipython",
    "version": 3
   },
   "file_extension": ".py",
   "mimetype": "text/x-python",
   "name": "python",
   "nbconvert_exporter": "python",
   "pygments_lexer": "ipython3",
   "version": "3.7.9"
  }
 },
 "nbformat": 4,
 "nbformat_minor": 5
}
